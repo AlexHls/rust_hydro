{
 "cells": [
  {
   "cell_type": "code",
   "execution_count": 17,
   "metadata": {},
   "outputs": [],
   "source": [
    "import numpy\n",
    "from matplotlib import pyplot as plt\n",
    "#from plotting_settings import *\n",
    "\n",
    "def generate_grid(nx,ny,deltax,deltay,dx,dy,px,py):\n",
    "\n",
    "\n",
    "    alpha1 = 0.5*( px - (nx*deltax+(nx-1.)*dx) )/px\n",
    "    alpha2 = 0.5*( py - (ny*deltay+(ny-1.)*dy) )/py\n",
    "\n",
    "    fig,axs=plt.subplots(ny,nx,figsize=(6.4, 4.8), dpi=180)\n",
    "\n",
    "    fig.subplots_adjust(bottom=alpha2,top=1-alpha2,left=alpha1,right=1-alpha1,wspace=dx/deltax, hspace=dy/deltay)\n",
    "\n",
    "    return fig,axs,[alpha1,alpha2]\n",
    "\n",
    "\n",
    "\n",
    "gamma = 1.4\n",
    "\n",
    "def read_data(file,n):\n",
    "\n",
    "    shape = (n//2,n)\n",
    "    f = open(file, 'rb')\n",
    "    data = numpy.fromfile(file=f,dtype='>f')[::2].reshape(shape)\n",
    "    f.close()\n",
    "    u = data[:, :]\n",
    "    del data\n",
    "\n",
    "    data = u.astype(numpy.float64, copy=False)\n",
    "\n",
    "    return data\n",
    "\n"
   ]
  },
  {
   "cell_type": "code",
   "execution_count": 19,
   "metadata": {},
   "outputs": [
    {
     "name": "stdout",
     "output_type": "stream",
     "text": [
      "0\n"
     ]
    },
    {
     "name": "stderr",
     "output_type": "stream",
     "text": [
      "/tmp/ipykernel_11246/3876540967.py:27: RuntimeWarning: invalid value encountered in divide\n",
      "  cs   = (gamma*p/rho)**0.5\n"
     ]
    },
    {
     "data": {
      "image/png": "[encoded data removed]",
      "text/plain": [
       "<Figure size 1152x864 with 2 Axes>"
      ]
     },
     "metadata": {
      "needs_background": "light"
     },
     "output_type": "display_data"
    }
   ],
   "source": [
    "\n",
    "n = 128\n",
    "\n",
    "root = './data'\n",
    "\n",
    "nfx     = 1\n",
    "nfy     = 1\n",
    "px      = 0.6\n",
    "py      = 0.55\n",
    "deltax  = 0.4\n",
    "deltay  = 0.2\n",
    "dx      = 0.0\n",
    "dy      = 0.0\n",
    "\n",
    "fig,axs,ex = generate_grid(nfx,nfy,deltax,deltay,dx,dy,px,py)\n",
    "\n",
    "\n",
    "for i in [0]:\n",
    "\n",
    "    \n",
    "    print(i)\n",
    "    \n",
    "    rho  = read_data('%s/rho_%d.dat'%(root,i),n)\n",
    "    u    = read_data('%s/u_%d.dat'%(root,i),n)\n",
    "    v    = read_data('%s/v_%d.dat'%(root,i),n)\n",
    "    p    = read_data('%s/p_%d.dat'%(root,i),n)\n",
    "    vel  = (u**2+v**2)**0.5\n",
    "    cs   = (gamma*p/rho)**0.5\n",
    "    Mach = vel/cs\n",
    "\n",
    "    ps = read_data('%s/ps1_%d.dat'%(root,i),n)\n",
    "    \n",
    "    im=axs.imshow((numpy.flip((Mach),axis=0)),cmap='magma',extent=[0,2,-0.5,0.5])\n",
    "    axs.set_xlabel(r'$x$')\n",
    "    axs.set_ylabel(r'$y$')\n",
    "\n",
    "    axColor = plt.axes([1-ex[0] + 0.01,ex[1],0.03,1-2*ex[1]])\n",
    "    cbar = plt.colorbar(im, cax = axColor, orientation=\"vertical\")\n",
    "    cbar.set_label(r'$\\mathcal{M}_\\mathrm{son}$',rotation=270,labelpad=10)\n",
    "\n",
    "\n",
    "\n",
    "    plt.savefig('%s/%d.png'%(root,i),dpi=300)\n",
    "    \n",
    "    \n",
    "    \n"
   ]
  },
  {
   "cell_type": "code",
   "execution_count": 14,
   "metadata": {},
   "outputs": [
    {
     "data": {
      "text/plain": [
       "2.0"
      ]
     },
     "execution_count": 14,
     "metadata": {},
     "output_type": "execute_result"
    }
   ],
   "source": [
    "16384 / (64 * 128)"
   ]
  },
  {
   "cell_type": "code",
   "execution_count": 8,
   "metadata": {},
   "outputs": [
    {
     "data": {
      "text/plain": [
       "array([nan,  0., nan, ...,  0., nan,  0.], dtype=float32)"
      ]
     },
     "execution_count": 8,
     "metadata": {},
     "output_type": "execute_result"
    }
   ],
   "source": [
    "numpy.fromfile('data/rho_1.dat', dtype='>f')"
   ]
  },
  {
   "cell_type": "code",
   "execution_count": 18,
   "metadata": {},
   "outputs": [
    {
     "data": {
      "text/plain": [
       "array([nan, nan, nan, nan, nan, nan, nan, nan, nan, nan, nan, nan, nan,\n",
       "       nan, nan, nan, nan, nan, nan, nan, nan, nan, nan, nan, nan, nan,\n",
       "       nan, nan, nan, nan, nan, nan, nan, nan, nan, nan, nan, nan, nan,\n",
       "       nan, nan, nan, nan, nan, nan, nan, nan, nan, nan, nan, nan, nan,\n",
       "       nan, nan, nan, nan, nan, nan, nan, nan, nan, nan, nan, nan,  0.,\n",
       "       nan, nan,  0.,  0.,  0.,  0.,  0.,  0.,  0.,  0.,  0.,  0.,  0.,\n",
       "        0.,  0.,  0.,  0.,  0.,  0.,  0.,  0.,  0.,  0.,  0.,  0.,  0.,\n",
       "        0.,  0.,  0.,  0.,  0.,  0.,  0.,  0.,  0.,  0.,  0.,  0.,  0.,\n",
       "        0.,  0.,  0.,  0.,  0.,  0.,  0.,  0.,  0.,  0.,  0.,  0.,  0.,\n",
       "        0.,  0.,  0.,  0.,  0.,  0.,  0.,  0.,  0.,  0.,  0.,  0.,  0.,\n",
       "        0., nan])"
      ]
     },
     "execution_count": 18,
     "metadata": {},
     "output_type": "execute_result"
    }
   ],
   "source": [
    "numpy.load('data/rho_1.npy')"
   ]
  },
  {
   "cell_type": "code",
   "execution_count": null,
   "metadata": {},
   "outputs": [],
   "source": []
  }
 ],
 "metadata": {
  "kernelspec": {
   "display_name": "Python 3 (ipykernel)",
   "language": "python",
   "name": "python3"
  },
  "language_info": {
   "codemirror_mode": {
    "name": "ipython",
    "version": 3
   },
   "file_extension": ".py",
   "mimetype": "text/x-python",
   "name": "python",
   "nbconvert_exporter": "python",
   "pygments_lexer": "ipython3",
   "version": "3.10.8"
  }
 },
 "nbformat": 4,
 "nbformat_minor": 4
}
